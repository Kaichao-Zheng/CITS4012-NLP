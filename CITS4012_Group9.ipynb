{
 "cells": [
  {
   "cell_type": "markdown",
   "metadata": {
    "id": "YOsq3No1kRC-"
   },
   "source": [
    "# 2025 CITS4012 Group 9 Assignment\n",
    "\n",
    "**Collaborators**\n",
    "\n",
    "| Uni ID   | Student Name  | GitHub Username                                   |\n",
    "| -------- | ------------- | ------------------------------------------------- |\n",
    "| 24141207 | Kaichao Zheng | [Kaichao-Zheng](https://github.com/Kaichao-Zheng) |\n",
    "| 24645175 | Ziqi Meng     | [jiongge39](https://github.com/jiongge39)         |\n",
    "| 23998001 | Yanglei Yuan  | [LeoYuan0225](https://github.com/LeoYuan0225)     |"
   ]
  },
  {
   "cell_type": "markdown",
   "metadata": {
    "id": "THS1ppSwkgz4"
   },
   "source": [
    "# Readme\n",
    "这是Project 1的模板，我直接拿来用了\n",
    "\n",
    "仅需注重代码风格及可视化，让marker改起来舒服就行，分数低不了的\n",
    "* 例如：多抄Lab的技术栈，多引用学界的基石论文，marker自然乐意审自己熟悉的技术。e.g., WordCloud Visualization\n",
    "\n",
    "*If there is something to be noted for the marker, please mention here.*\n",
    "\n",
    "*If you are planning to implement a program with Object *Oriented* Programming style, please put those the bottom of this ipynb file*"
   ]
  },
  {
   "cell_type": "markdown",
   "metadata": {
    "id": "3LPgCx5t-0f8"
   },
   "source": [
    "# 0. Setup"
   ]
  },
  {
   "cell_type": "markdown",
   "metadata": {
    "id": "FTV2-AYuV_lx"
   },
   "source": [
    "> NOTE:\n",
    ">\n",
    "> In Google Colab, an ERROR would occur due to incompatibility of the latest versions of `numpy` and `scipy`.\n",
    ">\n",
    "> Simply **restart the runtime** to use the newly downgraded versions."
   ]
  },
  {
   "cell_type": "code",
   "execution_count": null,
   "metadata": {
    "colab": {
     "base_uri": "https://localhost:8080/"
    },
    "id": "XsKNGCKj_DxD",
    "outputId": "d134cab6-1b4b-4552-fa41-75a243a7cb98"
   },
   "outputs": [],
   "source": [
    "%pip install word2number\n",
    "%pip install contractions\n",
    "%pip install nltk\n",
    "%pip install pandas\n",
    "%pip install gensim"
   ]
  },
  {
   "cell_type": "markdown",
   "metadata": {
    "id": "O0at-kJs67gh"
   },
   "source": [
    "# 1. Overview"
   ]
  },
  {
   "cell_type": "markdown",
   "metadata": {
    "id": "pcBQf2U37lwG"
   },
   "source": [
    "We implemented three substantially different model architectures:\n",
    "\n",
    "* [The vanilla RNN encoder-decoder architecture](#scrollTo=67TQJgOJ_lF1)\n",
    "\n",
    "* [The Bi-LSTM encoder-decoder with XXX-attention in different positions](#scrollTo=BhSE5ON4_r0C)\n",
    "\n",
    "* [The vanilla Transformer with self-attention (no RNN)](#scrollTo=E4w_n2P2_xxm)"
   ]
  },
  {
   "cell_type": "markdown",
   "metadata": {
    "id": "3tgj4JarkjAY"
   },
   "source": [
    "# 2. Data Preprocessing"
   ]
  },
  {
   "cell_type": "markdown",
   "metadata": {
    "id": "eylhXsB4Fb_V"
   },
   "source": [
    "## 2.1 Load JSON files from GitHub\n",
    "\n"
   ]
  },
  {
   "cell_type": "code",
   "execution_count": null,
   "metadata": {
    "colab": {
     "base_uri": "https://localhost:8080/"
    },
    "id": "0ZlBU0GAUiTD",
    "outputId": "79eb17ec-2d2a-4f44-fce3-125a6a5362ac"
   },
   "outputs": [],
   "source": [
    "# Define JSON dataset paths\n",
    "base_url = \"https://raw.githubusercontent.com/Kaichao-Zheng/CITS4012-NLP/main/\"\n",
    "\n",
    "train_file = base_url + \"train.json\"\n",
    "val_file = base_url + \"validation.json\"\n",
    "test_file = base_url + \"test.json\"\n",
    "\n",
    "# Quick check\n",
    "print(\"✅ Dataset URLs:\")\n",
    "print(\"Train:\\t\", train_file)\n",
    "print(\"Val:\\t\", val_file)\n",
    "print(\"Test:\\t\", test_file)"
   ]
  },
  {
   "cell_type": "code",
   "execution_count": null,
   "metadata": {
    "colab": {
     "base_uri": "https://localhost:8080/"
    },
    "id": "vF0lwUqfkj6p",
    "outputId": "c9319565-b738-4249-b1d3-8382ff3a10cc"
   },
   "outputs": [],
   "source": [
    "import pandas as pd\n",
    "\n",
    "# Working dataframes\n",
    "train_df = pd.read_json(train_file)\n",
    "val_df = pd.read_json(val_file)\n",
    "test_df = pd.read_json(test_file)\n",
    "\n",
    "# Keep original copies\n",
    "source_train_df = train_df.copy()\n",
    "source_val_df = val_df.copy()\n",
    "source_test_df = test_df.copy()\n",
    "\n",
    "# Sneak peek\n",
    "pd.set_option(\"display.max_colwidth\", 30)\n",
    "\n",
    "print(train_df.head())\n",
    "# print(val_df.head())\n",
    "# print(test_df.head())\n",
    "\n",
    "print(\"Train size:\", len(train_df))\n",
    "print(\"Val size:\", len(val_df))\n",
    "print(\"Test size:\", len(test_df))\n",
    "\n",
    "pd.reset_option(\"display.max_colwidth\")"
   ]
  },
  {
   "cell_type": "markdown",
   "metadata": {
    "id": "GJZtrMRPnYld"
   },
   "source": [
    "## 2.2 Define difference viewer"
   ]
  },
  {
   "cell_type": "code",
   "execution_count": null,
   "metadata": {
    "id": "Z7PZFNNUncY7"
   },
   "outputs": [],
   "source": [
    "import html\n",
    "from difflib import SequenceMatcher\n",
    "from IPython.display import display, HTML\n",
    "\n",
    "def verify_print(source_df, cleaned_df, tag, num, col, idx_src ,idx_now, kept=False):\n",
    "  status = \"Kept \" if kept else \"Reindexed\"\n",
    "  print(f\"{tag} {num}:\\tidx_src: {idx_src}\\t{source_df[col][idx_src]}\")\n",
    "  print(f\"{status} {num}:\\tidx_now: {idx_now}\\t{cleaned_df[col][idx_now]}\")\n",
    "  print()\n",
    "\n",
    "# You can enable dark mode by replacing default \"light\" here\n",
    "def verify_diff(source_df, cleaned_df, tag, num, col, index, kept=False, theme=\"dark\"):\n",
    "  if theme == \"light\":\n",
    "    bg = \"#fafafa\"; fg = \"#000000\"\n",
    "    del_bg = \"#ffdddd\"; ins_bg = \"#ddffdd\"\n",
    "    del_fg = \"#aa0000\"; ins_fg = \"#006600\"\n",
    "  else:\n",
    "    bg = \"#1e1e1e\"; fg = \"#e0e0e0\"\n",
    "    del_bg = \"#662222\"; ins_bg = \"#224422\"\n",
    "    del_fg = \"#ff9999\"; ins_fg = \"#99ff99\"\n",
    "\n",
    "  status = \"Kept\" if kept else \"Fixed\"\n",
    "\n",
    "  original = source_df[col][index]\n",
    "  cleaned = cleaned_df[col][index]\n",
    "\n",
    "  matcher = SequenceMatcher(None, original, cleaned)\n",
    "\n",
    "  html_original = f\"\"\"\n",
    "  <div style='margin-bottom: 10px; background-color:{bg}; color:{fg}; white-space: nowrap; font-family: monospace; padding: 5px; border-radius:4px;'>\n",
    "  <b>{tag} {num}:</b> \"\"\"\n",
    "  html_cleaned = f\"\"\"\n",
    "  <div style='margin-bottom: 10px; background-color:{bg}; color:{fg}; white-space: nowrap; font-family: monospace; padding: 5px; border-radius:4px;'>\n",
    "  <b>{status} {num}:</b> \"\"\"\n",
    "\n",
    "  for tag, i1, i2, j1, j2 in matcher.get_opcodes():\n",
    "    orig_text = original[i1:i2].replace(\" \", \"&nbsp;\")\n",
    "    clean_text = cleaned[j1:j2].replace(\" \", \"&nbsp;\")\n",
    "\n",
    "    if tag == 'equal':\n",
    "      html_original += orig_text\n",
    "      html_cleaned += clean_text\n",
    "    elif tag == 'delete':\n",
    "      html_original += f\"<span style='background-color:{del_bg}; color:{del_fg};'>{orig_text}</span>\"\n",
    "    elif tag == 'insert':\n",
    "      html_cleaned += f\"<span style='background-color:{ins_bg}; color:{ins_fg};'>{clean_text}</span>\"\n",
    "    elif tag == 'replace':\n",
    "      html_original += f\"<span style='background-color:{del_bg}; color:{del_fg};'>{orig_text}</span>\"\n",
    "      html_cleaned += f\"<span style='background-color:{ins_bg}; color:{ins_fg};'>{clean_text}</span>\"\n",
    "\n",
    "  html_original += \"</div>\"\n",
    "  html_cleaned += \"</div>\"\n",
    "\n",
    "  display(HTML(html_original + html_cleaned + \"<hr/>\"))"
   ]
  },
  {
   "cell_type": "markdown",
   "metadata": {
    "id": "Z9ibjBESaH08"
   },
   "source": [
    "## 2.3 Data cleansing\n",
    "\n",
    "In principle, the data cleansing rules are derived solely from the training set to prevent information leakage.\n",
    "\n",
    "This design intentionally preserves out-of-vocabulary (OOV) cases in the validation and test sets, which are represented by \\<UNK> tag."
   ]
  },
  {
   "cell_type": "markdown",
   "metadata": {
    "id": "pzfrlfEJgpZ_"
   },
   "source": [
    "Assumption\n",
    "* The value of `label` is binary, either \"neutral\" or \"entails\".\n",
    "\n",
    "Compromises\n",
    "* Ignore syntactic errors and semantic errors.\n",
    "* Apply unified premises rules on hypothesis.\n",
    "\n",
    "Handled Issues\n",
    "| No. | Description | Examples |\n",
    "|----------|-------------|-----------|\n",
    "| Issue 1 | HTML/XML tags with ID pattern | train premise 78, 270, 319, ... |\n",
    "| Issue 2 | Non-linguistic long/pure separators | train premise 1, 382, 385, ... |\n",
    "| Issue 3 | Duplicate consecutive phrases | train premise 78, 87, 564, ... |\n",
    "| Issue 4 | Single-word sentences  | train premise 146, 181, 427, ... |\n",
    "| Issue 5 | Duplicated whitespaces | train premise 123, 193, 259, ... |\n",
    "| Issue 6 | Spaces before punctuations, except '!' and '?' | train premise 3, 333, 6280 |\n",
    "| Issue 7 | Premise with long concatenated sentences | train premise 270, 537, 608, ... |\n",
    "\n",
    "Kept Noises\n",
    "\n",
    "| No. | Description | Noise | Non-Noise |\n",
    "|----------|-------------|----------|--------------|\n",
    "| Noise 1 | Instructional prompt words | train premise 3, 61, 319, ... | train premise 16, 24, 61, ... |\n",
    "| Noise 2 | Numbered markers | train premise 270, 537, 608, ... | train premise 1546, 2068, ... |\n",
    "| Noise 3 | Misplaced `label` values | train premise 270, 537, 606, ... | train premise 1683, 2068, ... |\n",
    "| Noise 4 | Metadata prefixes | train premise 32, 230, 482, ... |  |\n",
    "| Noise 4 | Isolated single symbols | train premise 60, 1185 | comparison operators |\n",
    "\n",
    "\n",
    "Limitation\n",
    "\n",
    "The difference viewer automatically escapes HTML entities, which might overlook HTML noise. (E.g., &amp;quot; in train premise 420)"
   ]
  },
  {
   "cell_type": "code",
   "execution_count": null,
   "metadata": {
    "colab": {
     "base_uri": "https://localhost:8080/",
     "height": 0
    },
    "id": "w1jUqkRJadr_",
    "outputId": "586491b8-f965-4e39-b904-cc93d99f25d0"
   },
   "outputs": [],
   "source": [
    "import re\n",
    "\n",
    "def cleanse(df):\n",
    "  df = df.copy()\n",
    "\n",
    "  ID_PATTERN = r\"\\b[A-Za-z]?(?:\\d{6,}|[A-Za-z0-9]{8,})(?:-[A-Za-z0-9]{2,})+\\b\"\n",
    "  REPEAT_PATTERN = r\"\\b((?:\\w+\\s+){0,2}\\w+)( \\1\\b)+\"\n",
    "\n",
    "  for col in [\"premise\", \"hypothesis\"]:\n",
    "\n",
    "    # pre-trim: two-tailed whitespaces\n",
    "    df[col] = df[col].apply(lambda x: x.strip())\n",
    "\n",
    "    # issue 1: HTML/XML tags with ID pattern\n",
    "    df[col] = df[col].apply(html.unescape)\n",
    "    df[col] = df[col].apply(lambda x: re.sub(r\"<[^>]*>\", \" \", x))\n",
    "    df[col] = df[col].apply(lambda x: re.sub(ID_PATTERN, \" \", x))\n",
    "\n",
    "    # issue 2: non-linguistic long/pure separators\n",
    "    df[col] = df[col].apply(lambda x: re.sub(r\"[-=*_~$]{3,}\", \" \", x))\n",
    "    df[col] = df[col].apply(lambda x: \"\" if re.fullmatch(r\"[\\W_]+\", x.strip()) else x)\n",
    "\n",
    "    # issue 3: duplicate consecutive phrases\n",
    "    df[col] = df[col].apply(lambda x: re.sub(REPEAT_PATTERN, r\"\\1\", x))\n",
    "\n",
    "    # issue 4: single-word sentences\n",
    "    df[col] = df[col].apply(lambda x: \"\" if re.fullmatch(r\"(\\w+[.!?']?|[^\\w\\s]+)\", x.strip()) else x)\n",
    "\n",
    "    # issue 5: duplicate whitespaces\n",
    "    df[col] = df[col].apply(lambda x: re.sub(r\"\\s+\", \" \", x).strip())\n",
    "\n",
    "    # issue 6: spaces before punctuations\n",
    "    df[col] = df[col].apply(lambda x: re.sub(r\"\\s+([.,;:])\", r\"\\1\", x))\n",
    "\n",
    "  return df\n",
    "\n",
    "# Clenasing\n",
    "train_df = cleanse(train_df)\n",
    "val_df = cleanse(val_df)\n",
    "test_df = cleanse(test_df)\n",
    "\n",
    "# Keep cleaned copies\n",
    "cleaned_train_df = train_df.copy()\n",
    "cleaned_val_df = val_df.copy()\n",
    "cleaned_test_df = test_df.copy()\n",
    "\n",
    "# Verification\n",
    "verify_diff(source_train_df, cleaned_train_df, tag=\"Issue\", num=1, col=\"premise\", index=319)\n",
    "verify_diff(source_train_df, cleaned_train_df, tag=\"Issue\", num=2, col=\"premise\", index=1)\n",
    "verify_diff(source_train_df, cleaned_train_df, tag=\"Issue\", num=3, col=\"premise\", index=87)\n",
    "verify_diff(source_train_df, cleaned_train_df, tag=\"Issue\", num=4, col=\"premise\", index=146)\n",
    "verify_diff(source_train_df, cleaned_train_df, tag=\"Issue\", num=5, col=\"premise\", index=123)\n",
    "verify_diff(source_train_df, cleaned_train_df, tag=\"Issue\", num=6, col=\"premise\", index=3)\n",
    "# verify_diff(source_train_df, cleaned_train_df, tag=\"Issue\", num=6, col=\"premise\", index=6280, kept=True)  # why except '?'\n",
    "# verify_diff(source_train_df, cleaned_train_df, tag=\"Issue\", num=6, col=\"premise\", index=333, kept=True)  # why except '!'\n",
    "verify_diff(source_train_df, cleaned_train_df, tag=\"Issue\", num=\"Hybrid\", col=\"premise\", index=270)"
   ]
  },
  {
   "cell_type": "markdown",
   "metadata": {
    "id": "ZDOTLdmDKwfy"
   },
   "source": [
    "## 2.4 Normalization"
   ]
  },
  {
   "cell_type": "code",
   "execution_count": null,
   "metadata": {
    "colab": {
     "base_uri": "https://localhost:8080/"
    },
    "id": "Rc0V-G-Ei8lr",
    "outputId": "b394c0d8-7cfe-41fb-cdb5-ef79e6dba3d8"
   },
   "outputs": [],
   "source": [
    "import nltk\n",
    "from nltk.corpus import stopwords\n",
    "nltk.download('stopwords')\n",
    "sww = stopwords.words('english')"
   ]
  },
  {
   "cell_type": "code",
   "execution_count": null,
   "metadata": {
    "colab": {
     "base_uri": "https://localhost:8080/",
     "height": 0
    },
    "id": "gAEbhAKoKyEW",
    "outputId": "63eabd32-4b7b-4d54-9a79-c0a7fd0d77e8"
   },
   "outputs": [],
   "source": [
    "import re, contractions\n",
    "from nltk.tokenize import word_tokenize, sent_tokenize\n",
    "from word2number import w2n\n",
    "from contractions import fix as expand_contractions\n",
    "\n",
    "def word2num(text):\n",
    "  def convert(match):\n",
    "    word = match.group(0)\n",
    "    try:\n",
    "      return f\" {w2n.word_to_num(word)} \"\n",
    "    except:\n",
    "      return f\" {word} \"\n",
    "  text = re.sub(\n",
    "    r'\\b(?:zero|one|two|three|four|five|six|seven|eight|nine|ten|'\n",
    "    r'eleven|twelve|thirteen|fourteen|fifteen|sixteen|seventeen|'\n",
    "    r'eighteen|nineteen|twenty|thirty|forty|fifty|sixty|seventy|'\n",
    "    r'eighty|ninety|hundred|thousand|million|billion|and|[- ])+\\b',\n",
    "    convert, text)\n",
    "  return ' '.join(text.split())\n",
    "\n",
    "def normalize(df):\n",
    "  df = df.copy()\n",
    "\n",
    "  for col in [\"premise\", \"hypothesis\"]:\n",
    "\n",
    "    # rule 1: lowercase\n",
    "    df[col] = df[col].str.lower()\n",
    "\n",
    "    # rule 2: expand contraction\n",
    "    df[col] = df[col].apply(expand_contractions)\n",
    "\n",
    "    # rule -1: remove stopwords\n",
    "    # df[col] = df[col].apply(lambda x: \" \".join([w for w in word_tokenize(x) if w.lower() not in sww]))\n",
    "\n",
    "    # rule -2: remove bracketed content\n",
    "    # df[col] = df[col].apply(lambda x: re.sub(r'\\([^)]*\\)', '', x))\n",
    "\n",
    "    # rule -3: symbolize linguistic numbers\n",
    "    # df[col] = df[col].apply(word2num)\n",
    "\n",
    "  return df\n",
    "\n",
    "# Normalization\n",
    "train_df = normalize(train_df)\n",
    "val_df = normalize(val_df)\n",
    "test_df = normalize(test_df)\n",
    "\n",
    "# Keep normalized copies\n",
    "normalized_train_df = train_df.copy()\n",
    "normalized_val_df = val_df.copy()\n",
    "normalized_test_df = test_df.copy()\n",
    "\n",
    "# Verification\n",
    "verify_diff(cleaned_train_df, normalized_train_df, tag=\"Rule\", num=\"1\", col=\"premise\", index=1)\n",
    "verify_diff(cleaned_train_df, normalized_train_df, tag=\"Rule\", num=\"2\", col=\"premise\", index=420)\n",
    "verify_diff(cleaned_train_df, normalized_train_df, tag=\"Rule\", num=\"2\", col=\"hypothesis\", index=8, kept=True)\n",
    "\n",
    "# Inactivate rules\n",
    "# verify_diff(cleaned_train_df, normalized_train_df, tag=\"Rule\", num=-1, col=\"premise\", index=1, kept=True)\n",
    "# verify_diff(cleaned_train_df, normalized_train_df, tag=\"Rule\", num=-2, col=\"premise\", index=8, kept=True)\n",
    "# verify_diff(cleaned_train_df, normalized_train_df, tag=\"Rule\", num=-3, col=\"premise\", index=147, kept=True)"
   ]
  },
  {
   "cell_type": "markdown",
   "metadata": {
    "id": "T1j8PKb8i3zP"
   },
   "source": [
    "## 2.5 Reindexing"
   ]
  },
  {
   "cell_type": "code",
   "execution_count": null,
   "metadata": {
    "colab": {
     "base_uri": "https://localhost:8080/"
    },
    "id": "uzpo8vldi509",
    "outputId": "2943997c-a89c-4cd9-bd87-d32df6102ad0"
   },
   "outputs": [],
   "source": [
    "def reindex(df):\n",
    "  df = df.copy()\n",
    "\n",
    "  for col in [\"premise\", \"hypothesis\"]:\n",
    "\n",
    "    # post-issue 4: remove rows with empty cell\n",
    "    df = df[df[col].astype(str).str.strip() != \"\"]\n",
    "\n",
    "  # issue 7: premise with long concatenated sentences\n",
    "  new_rows = []\n",
    "  for _, row in df.iterrows():\n",
    "    premise = str(row[\"premise\"]).strip()\n",
    "    hypothesis = str(row[\"hypothesis\"]).strip()\n",
    "    label = str(row[\"label\"]).strip()\n",
    "\n",
    "    if not premise:\n",
    "      continue\n",
    "\n",
    "    # split by \". \" or \"; \" to avoid 3.14\n",
    "    sentences = re.split(r'(?<!\\d)(?<=[.;])\\s+(?=[A-Za-z])', premise)\n",
    "    sentences = [s.strip() for s in sentences if s.strip()]\n",
    "\n",
    "    for s in sentences:\n",
    "      new_rows.append({\n",
    "        \"premise\": s,\n",
    "        \"hypothesis\": hypothesis,\n",
    "        \"label\": label\n",
    "      })\n",
    "  df = pd.DataFrame(new_rows)\n",
    "\n",
    "  # reorder index\n",
    "  df = df.reset_index(drop=True)\n",
    "\n",
    "  return df\n",
    "\n",
    "# Reindexing\n",
    "train_df = reindex(train_df)\n",
    "val_df = reindex(val_df)\n",
    "test_df = reindex(test_df)\n",
    "\n",
    "# Keep reindexed copies\n",
    "reindexed_train_df = train_df.copy()\n",
    "reindexed_val_df = val_df.copy()\n",
    "reindexed_test_df = test_df.copy()\n",
    "\n",
    "# Verification\n",
    "verify_print(normalized_train_df, reindexed_train_df, tag=\"Post-Issue\", num=4, col=\"premise\", idx_src=147, idx_now=158)\n",
    "verify_print(normalized_train_df, reindexed_train_df, tag=\"Issue\", num=7, col=\"premise\", idx_src=31, idx_now=31, kept=True)\n",
    "verify_print(normalized_train_df, reindexed_train_df, tag=\"Issue\", num=7, col=\"premise\", idx_src=270, idx_now=281)"
   ]
  },
  {
   "cell_type": "markdown",
   "metadata": {
    "id": "adtX9t6XKyTd"
   },
   "source": [
    "## 2.6 Tokenization"
   ]
  },
  {
   "cell_type": "code",
   "execution_count": null,
   "metadata": {
    "colab": {
     "base_uri": "https://localhost:8080/"
    },
    "id": "mX8ghj_AK0uG",
    "outputId": "866f6e45-2124-4b16-c361-6cd3b0dc66f9"
   },
   "outputs": [],
   "source": [
    "import nltk\n",
    "nltk.download('punkt_tab')"
   ]
  },
  {
   "cell_type": "code",
   "execution_count": null,
   "metadata": {
    "colab": {
     "base_uri": "https://localhost:8080/",
     "height": 0
    },
    "id": "ZVPHolC0DPzA",
    "outputId": "257dd66f-3637-4393-c839-3306b39d9fb3"
   },
   "outputs": [],
   "source": [
    "import string\n",
    "\n",
    "def protect_float(text: str) -> str:\n",
    "  return re.sub(r\"(?<=\\d)\\.(?=\\d)\", \"DOTTK\", text)\n",
    "\n",
    "def recover_float(tokens):\n",
    "  return [t.replace(\"DOTTK\", \".\") for t in tokens]\n",
    "\n",
    "def tokenize(df):\n",
    "  df = df.copy()\n",
    "  KEEP_SYMBOLS = set(\"=<>+-/*%!\")\n",
    "\n",
    "  for col in [\"premise\", \"hypothesis\"]:\n",
    "    # Remove punctuations\n",
    "    df[col] = df[col].apply(lambda x: protect_float(x))\n",
    "    df[col] = df[col].apply(lambda x: [t for t in word_tokenize(x) if t not in string.punctuation or t in KEEP_SYMBOLS])\n",
    "    df[col] = df[col].apply(lambda toks: recover_float(toks))\n",
    "\n",
    "  return df\n",
    "\n",
    "# Tokenization\n",
    "tokenized_train_df = tokenize(train_df)\n",
    "tokenized_val_df = tokenize(val_df)\n",
    "tokenized_test_df = tokenize(test_df)\n",
    "\n",
    "# Quick check\n",
    "preview_rows = pd.concat([\n",
    "  tokenized_train_df.head(),\n",
    "  tokenized_train_df.iloc[[6, 23, 34, 62, 369, 438, 2116]]  # concatenate indeces 6, 23, 32, 60, 319, 385, 1185\n",
    "])\n",
    "\n",
    "display(preview_rows)"
   ]
  },
  {
   "cell_type": "markdown",
   "metadata": {
    "id": "Nm9wewk0QTzH"
   },
   "source": [
    "## 2.7 Visualisation via Word Cloud"
   ]
  },
  {
   "cell_type": "markdown",
   "metadata": {
    "id": "b48-JUWxRG28"
   },
   "source": [
    "We actually include stopwords in the tokenized dataframes for model training,\n",
    "\n",
    "but temporarily remove them here for visualisation purposes."
   ]
  },
  {
   "cell_type": "code",
   "execution_count": null,
   "metadata": {
    "colab": {
     "base_uri": "https://localhost:8080/",
     "height": 0
    },
    "id": "0robldKbRWOK",
    "outputId": "7f498c22-bff3-40aa-fb18-3522ce93e4f5"
   },
   "outputs": [],
   "source": [
    "import matplotlib.pyplot as plt\n",
    "from wordcloud import WordCloud\n",
    "\n",
    "from nltk.corpus import stopwords\n",
    "nltk.download('stopwords', quiet=True)\n",
    "sww = stopwords.words('english')\n",
    "\n",
    "for col in [\"premise\", \"hypothesis\"]:\n",
    "  tokens = []\n",
    "  # Remove punctuation, number, and stopword tokens temporarily\n",
    "  for toks in tokenized_train_df[col]:\n",
    "    tokens.extend([t.lower() for t in toks if t.isalpha() and t.lower() not in sww])\n",
    "  wordcloud = WordCloud(background_color=\"white\").generate(\" \".join(tokens))\n",
    "  plt.figure()\n",
    "  plt.imshow(wordcloud, interpolation=\"bilinear\")\n",
    "  plt.axis(\"off\")\n",
    "  plt.title(f\"{col.capitalize()} Word Cloud (Train Set)\")\n",
    "  plt.show()"
   ]
  },
  {
   "cell_type": "markdown",
   "metadata": {
    "id": "zDxZSK20klWr"
   },
   "source": [
    "# 3. Word Embedding"
   ]
  },
  {
   "cell_type": "markdown",
   "metadata": {
    "id": "_ztqzVInTC1d"
   },
   "source": [
    "## 3.1 Signal tags\n",
    "\n",
    "We chose to add \\<EOS> after premise to signal the end of the input sequence."
   ]
  },
  {
   "cell_type": "code",
   "execution_count": null,
   "metadata": {
    "colab": {
     "base_uri": "https://localhost:8080/",
     "height": 0
    },
    "id": "fleoeIBDkr5i",
    "outputId": "bd439929-79fc-48cb-a7a4-3e63a9d9056c"
   },
   "outputs": [],
   "source": [
    "def tag_seq2seq(df):\n",
    "  df = df.copy()\n",
    "\n",
    "  # Encoder input sequences\n",
    "  df[\"premise\"] = df[\"premise\"].apply(lambda s: s + [\"<EOS>\"])\n",
    "\n",
    "  # Decoder input sequences\n",
    "  df[\"hypothesis_in\"] = df[\"hypothesis\"].apply(lambda s: [\"<BOS>\"] + s)\n",
    "\n",
    "  # Decoder target sequences for teacher forcing\n",
    "  df[\"hypothesis_tar\"] = df[\"hypothesis\"].apply(lambda s: s + [\"<EOS>\"])\n",
    "\n",
    "  return df\n",
    "\n",
    "# Reorder columns\n",
    "order = [\"premise\",\"hypothesis_in\",\"hypothesis_tar\",\"label\"]\n",
    "\n",
    "train_df = tag_seq2seq(tokenized_train_df)[order]\n",
    "val_df = tag_seq2seq(tokenized_val_df)[order]\n",
    "test_df = tag_seq2seq(tokenized_test_df)[order]\n",
    "\n",
    "display(train_df.head())"
   ]
  },
  {
   "cell_type": "markdown",
   "metadata": {
    "id": "LoSbUcLGaURF"
   },
   "source": [
    "## 3.2 Token vocabulary\n",
    "\n",
    "The vocabulary only includes tokens in train set with `frequency >= 3`.\n",
    "\n",
    "Therefore, a token with low frequency will be regarded as \\<UNK>.\n",
    "\n",
    "E.g. the token \"6.39\" from the first premise."
   ]
  },
  {
   "cell_type": "code",
   "execution_count": null,
   "metadata": {
    "colab": {
     "base_uri": "https://localhost:8080/"
    },
    "id": "i6MnwSgIVx58",
    "outputId": "c0cca4ca-0398-4235-fb5d-0fae2b080fe8"
   },
   "outputs": [],
   "source": [
    "from collections import Counter\n",
    "\n",
    "def build_vocab(tagged_df, min_freq=3):\n",
    "  counter = Counter()\n",
    "  for col in [\"premise\", \"hypothesis\"]:\n",
    "    for toks in tagged_df[col]:\n",
    "      counter.update(toks)\n",
    "\n",
    "  # special tokens\n",
    "  vocab = {\"<PAD>\": 0,\"<UNK>\": 1,\"<BOS>\": 2,\"<EOS>\": 3}\n",
    "  for token, freq in counter.items():\n",
    "    if freq >= min_freq and token not in vocab:\n",
    "      vocab[token] = len(vocab)\n",
    "\n",
    "  return vocab\n",
    "\n",
    "vocab = build_vocab(tokenized_train_df)\n",
    "print(\"Vocab size:\", {len(vocab)})\n",
    "print(\"Sample tokens:\", list(vocab.keys())[:20])"
   ]
  },
  {
   "cell_type": "markdown",
   "metadata": {
    "id": "gVw81ZCbgjSh"
   },
   "source": [
    "## 3.3 One-hot key embedding\n",
    "\n",
    "Map each token to its one-hot key from the vocabulary."
   ]
  },
  {
   "cell_type": "code",
   "execution_count": null,
   "metadata": {
    "colab": {
     "base_uri": "https://localhost:8080/",
     "height": 0
    },
    "id": "gg2wWyg-bV3r",
    "outputId": "6ccad82a-0f66-4b04-8832-eceebb12951d"
   },
   "outputs": [],
   "source": [
    "def word_to_index(df, vocab):\n",
    "  df = df.copy()\n",
    "\n",
    "  for col in [\"premise\", \"hypothesis_in\", \"hypothesis_tar\"]:\n",
    "    df[col] = df[col].apply(lambda toks: [vocab.get(w, vocab[\"<UNK>\"]) for w in toks])\n",
    "\n",
    "  label_map = {\"neutral\": 0, \"entails\": 1}\n",
    "  if \"label\" in df.columns:\n",
    "    df[\"label\"] = df[\"label\"].map(label_map).fillna(-1).astype(int)\n",
    "\n",
    "  return df\n",
    "\n",
    "# One-hot key embedding\n",
    "indexed_train_df = word_to_index(train_df, vocab)\n",
    "indexed_val_df = word_to_index(val_df, vocab)\n",
    "indexed_test_df = word_to_index(test_df, vocab)\n",
    "\n",
    "display(indexed_train_df.head())"
   ]
  },
  {
   "cell_type": "markdown",
   "metadata": {
    "id": "XZJlo-z8k0ai"
   },
   "source": [
    "# 4. Model Implementation"
   ]
  },
  {
   "cell_type": "markdown",
   "metadata": {
    "id": "mTHB84RcbOFo"
   },
   "source": [
    "## 4.1 Training Configuration"
   ]
  },
  {
   "cell_type": "markdown",
   "metadata": {
    "id": "Mtl8jwlgCpu3"
   },
   "source": [
    "### 4.1.1 Enable cuda GPU"
   ]
  },
  {
   "cell_type": "code",
   "execution_count": null,
   "metadata": {
    "id": "h9W2gHTTCyM2"
   },
   "outputs": [],
   "source": [
    "import torch\n",
    "device = torch.device(\"cuda\" if torch.cuda.is_available() else \"cpu\")"
   ]
  },
  {
   "cell_type": "markdown",
   "metadata": {
    "id": "LyhnsNdv7kVj"
   },
   "source": [
    "### 4.1.2 Shared hyperparameters\n"
   ]
  },
  {
   "cell_type": "code",
   "execution_count": null,
   "metadata": {
    "id": "DgNqexCv7fHf"
   },
   "outputs": [],
   "source": [
    "from types import SimpleNamespace\n",
    "\n",
    "shared = SimpleNamespace(\n",
    "  vocab_size = len(vocab),\n",
    "  embed_dim = 256,\n",
    "  hidden_dim = 256,\n",
    "  num_layers = None,      # number of recurrent layers differs across models\n",
    "  dropout = 0.1,\n",
    "  batch_size = 128,\n",
    "  learning_rate = 1e-3,\n",
    "  total_epoch = 20,\n",
    "  pad_idx = vocab[\"<PAD>\"],\n",
    "  unk_idx = vocab[\"<UNK>\"],\n",
    "  bos_idx = vocab[\"<BOS>\"],\n",
    "  eos_idx = vocab[\"<EOS>\"],\n",
    ")"
   ]
  },
  {
   "cell_type": "markdown",
   "metadata": {
    "id": "6NWYbjTKb7RE"
   },
   "source": [
    "### 4.1.3 Padding"
   ]
  },
  {
   "cell_type": "code",
   "execution_count": null,
   "metadata": {
    "colab": {
     "base_uri": "https://localhost:8080/",
     "height": 206
    },
    "id": "3P_ZR8E1b-j4",
    "outputId": "ab759290-96d6-4236-e149-53966806b138"
   },
   "outputs": [],
   "source": [
    "def pad(seq, max_len):\n",
    "  return seq + [shared.pad_idx] * (max_len - len(seq))\n",
    "\n",
    "def pad_seq(df):\n",
    "  df = df.copy()\n",
    "\n",
    "  max_prem = max(df[\"premise\"].apply(len))\n",
    "  max_hypo_in = max(df[\"hypothesis_in\"].apply(len))\n",
    "  max_hypo_tar = max(df[\"hypothesis_tar\"].apply(len))\n",
    "\n",
    "  df[\"premise\"] = df[\"premise\"].apply(lambda s: pad(s, max_prem))\n",
    "  df[\"hypothesis_in\"] = df[\"hypothesis_in\"].apply(lambda s: pad(s, max_hypo_in))\n",
    "  df[\"hypothesis_tar\"] = df[\"hypothesis_tar\"].apply(lambda s: pad(s, max_hypo_tar))\n",
    "\n",
    "  return df\n",
    "\n",
    "# Padding\n",
    "train_df = pad_seq(indexed_train_df)\n",
    "val_df = pad_seq(indexed_val_df)\n",
    "test_df = pad_seq(indexed_test_df)\n",
    "\n",
    "# Verification\n",
    "pd.set_option(\"display.max_colwidth\", 60)\n",
    "display(train_df.head())\n",
    "pd.reset_option(\"display.max_colwidth\")"
   ]
  },
  {
   "cell_type": "markdown",
   "metadata": {
    "id": "S6Gm9F5Mb-0p"
   },
   "source": [
    "### 4.1.4 Batching"
   ]
  },
  {
   "cell_type": "code",
   "execution_count": null,
   "metadata": {
    "id": "D6cJWrEacAhH"
   },
   "outputs": [],
   "source": [
    "from torch.utils.data import TensorDataset, DataLoader\n",
    "\n",
    "def make_batch(idx_df):\n",
    "  batch_size = shared.batch_size\n",
    "\n",
    "  encoder_inputs = torch.tensor(idx_df[\"premise\"].tolist())\n",
    "  decoder_inputs = torch.tensor(idx_df[\"hypothesis_in\"].tolist())\n",
    "  targets = torch.tensor(idx_df[\"hypothesis_tar\"].tolist())\n",
    "  labels = torch.tensor(idx_df[\"label\"].tolist()) if \"label\" in idx_df else None\n",
    "\n",
    "  dataset = TensorDataset(encoder_inputs, decoder_inputs, targets, labels)\n",
    "  loader  = DataLoader(dataset, batch_size=batch_size, shuffle=True)\n",
    "\n",
    "  return loader"
   ]
  },
  {
   "cell_type": "markdown",
   "metadata": {
    "id": "67TQJgOJ_lF1"
   },
   "source": [
    "## 4.2 The vanilla RNN encoder-decoder architecture"
   ]
  },
  {
   "cell_type": "markdown",
   "metadata": {
    "id": "YaiNx53_Sxia"
   },
   "source": [
    "* Single recurrent layer for both encoder and decoder. (Inactive dropout between RNN layers)\n",
    "* Dropout applied to endocer hidden state and decoder output\n",
    "* Teacher forcing strategy during training\n",
    "* Validation set used for monitoring overfitting\n",
    "* Unsolved OOV limitation\n",
    "* No attention mechanism"
   ]
  },
  {
   "cell_type": "markdown",
   "metadata": {
    "id": "svs9VN19Xdzs"
   },
   "source": [
    "![model_1.png](data:image/png;base64,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)"
   ]
  },
  {
   "cell_type": "markdown",
   "metadata": {
    "id": "6msx2of6C8_U"
   },
   "source": [
    "### 4.2.1 Model"
   ]
  },
  {
   "cell_type": "code",
   "execution_count": null,
   "metadata": {
    "id": "HoCjPNp8C-b4"
   },
   "outputs": [],
   "source": [
    "import torch.nn as nn\n",
    "\n",
    "class RNN_Seq2Seq_Model(nn.Module):\n",
    "  def __init__(self, shared):\n",
    "    super().__init__()\n",
    "\n",
    "    # Specialized hyperparameters\n",
    "    self.num_layers = 1\n",
    "\n",
    "    # Layer definitions\n",
    "    self.embedding = nn.Embedding(shared.vocab_size, shared.embed_dim, padding_idx=shared.pad_idx)\n",
    "\n",
    "    self.encoder = nn.RNN(\n",
    "      shared.embed_dim, shared.hidden_dim,\n",
    "      num_layers=self.num_layers,\n",
    "      # dropout=shared.dropout,   # Dropout only applies between RNN layers\n",
    "      batch_first=True\n",
    "    )\n",
    "\n",
    "    self.decoder = nn.RNN(\n",
    "      shared.embed_dim, shared.hidden_dim,\n",
    "      num_layers=self.num_layers,\n",
    "      # dropout=shared.dropout,   # Dropout only applies between RNN layers\n",
    "      batch_first=True\n",
    "    )\n",
    "\n",
    "    # Prevents overfitting\n",
    "    self.dropout_encoder = nn.Dropout(shared.dropout)\n",
    "    self.dropout_decoder = nn.Dropout(shared.dropout)\n",
    "\n",
    "    self.linear = nn.Linear(shared.hidden_dim, shared.vocab_size)\n",
    "\n",
    "  def forward(self, enc_in, dec_in):\n",
    "    # Encoder\n",
    "    enc_embed = self.embedding(enc_in)        # encoder embedding\n",
    "    _, hidden = self.encoder(enc_embed)       # discard encoder output\n",
    "    hidden = self.dropout_encoder(hidden)      # apply dropout layer to hidden state\n",
    "\n",
    "    # Decoder\n",
    "    dec_embed = self.embedding(dec_in)        # decoder embedding\n",
    "    dec_out, _ = self.decoder(dec_embed, hidden)  # inherit hidden state, discard decoder final hidden state\n",
    "    dec_out = self.dropout_decoder(dec_out)     # apply dropout layer to decoder output\n",
    "\n",
    "    logits = self.linear(dec_out)          # decoder raw prediction\n",
    "\n",
    "    return logits"
   ]
  },
  {
   "cell_type": "markdown",
   "metadata": {
    "id": "diVN3tW6qmTL"
   },
   "source": [
    "### 4.2.2 Training (2 min)"
   ]
  },
  {
   "cell_type": "code",
   "execution_count": null,
   "metadata": {
    "id": "VQqFb5Csqv03"
   },
   "outputs": [],
   "source": [
    "import torch.optim as optim\n",
    "\n",
    "model = RNN_Seq2Seq_Model(shared).to(device)\n",
    "criterion = nn.CrossEntropyLoss(ignore_index=shared.pad_idx)     # combine LogSoftmax and NLLLoss\n",
    "optimizer = optim.Adam(model.parameters(), lr=shared.learning_rate)"
   ]
  },
  {
   "cell_type": "code",
   "execution_count": null,
   "metadata": {
    "id": "OHXsq4Fl_bmg"
   },
   "outputs": [],
   "source": [
    "train_loader = make_batch(train_df)\n",
    "val_loader = make_batch(val_df)\n",
    "\n",
    "for encoder_batch, decoder_batch, target_batch, _ in train_loader:  # discard label, because we only concern about how to generate a sequence\n",
    "  # Move to device\n",
    "  encoder_batch = encoder_batch.to(device)\n",
    "  decoder_batch = decoder_batch.to(device)\n",
    "  target_batch = target_batch.to(device)\n",
    "\n",
    "  # Forward pass\n",
    "  logits = model(encoder_batch, decoder_batch)\n",
    "  loss = criterion(logits.view(-1, logits.size(-1)), target_batch.view(-1))\n",
    "\n",
    "  # Backward and optimize\n",
    "  optimizer.zero_grad()\n",
    "  loss.backward()\n",
    "  optimizer.step()"
   ]
  },
  {
   "cell_type": "code",
   "execution_count": null,
   "metadata": {
    "colab": {
     "base_uri": "https://localhost:8080/"
    },
    "id": "8hdF7T0pBxU2",
    "outputId": "151720c0-43f6-4efc-f960-73d0609e9608"
   },
   "outputs": [],
   "source": [
    "train_epoch_losses = []\n",
    "val_epoch_losses = []\n",
    "\n",
    "for epoch in range(shared.total_epoch):\n",
    "  model.train()\n",
    "  train_loss = 0\n",
    "\n",
    "  # Training loop\n",
    "  for enc, dec, tar, _ in train_loader:\n",
    "    enc, dec, tar = enc.to(device), dec.to(device), tar.to(device)\n",
    "    optimizer.zero_grad()\n",
    "    logits = model(enc, dec)    # enable teacher forcing\n",
    "    loss = criterion(logits.view(-1, logits.size(-1)), tar.view(-1))\n",
    "    loss.backward()\n",
    "    optimizer.step()\n",
    "    train_loss += loss.item()    # accumulate batch loss for this epoch\n",
    "\n",
    "  train_avg_loss = train_loss / len(train_loader)\n",
    "  train_epoch_losses.append(train_avg_loss)\n",
    "\n",
    "  # Validation\n",
    "  model.eval()\n",
    "  val_loss = 0\n",
    "  with torch.no_grad():\n",
    "    for enc, dec, tar, _ in val_loader:\n",
    "      enc, dec, tar = enc.to(device), dec.to(device), tar.to(device)\n",
    "      logits = model(enc, dec)\n",
    "      loss = criterion(logits.view(-1, logits.size(-1)), tar.view(-1))\n",
    "      val_loss += loss.item()   # accumulate batch loss for this epoch\n",
    "\n",
    "  val_avg_loss = val_loss / len(val_loader)\n",
    "  val_epoch_losses.append(val_avg_loss)\n",
    "\n",
    "  print(f\"Epoch: {epoch+1}/{shared.total_epoch}\\tTrain Loss: {train_avg_loss:.4f}\\tVal Loss: {val_avg_loss:.4f}\")"
   ]
  },
  {
   "cell_type": "markdown",
   "metadata": {
    "id": "XPkVjEM4LNu-"
   },
   "source": [
    "### 4.2.3 Loss curves"
   ]
  },
  {
   "cell_type": "code",
   "execution_count": null,
   "metadata": {
    "id": "hznRuf-PLKk9"
   },
   "outputs": [],
   "source": [
    "import matplotlib.pyplot as plt\n",
    "\n",
    "epoch = range(1, shared.total_epoch + 1)\n",
    "fig, axes = plt.subplots(1, 2, figsize=(12, 4), sharex=True)\n",
    "\n",
    "# Training Loss\n",
    "axes[0].plot(epoch, train_epoch_losses, marker='o', color='blue', label='Train Loss')\n",
    "axes[0].set_title('Training Loss per Epoch')\n",
    "axes[0].set_xticks(epoch)\n",
    "axes[0].set_xlabel('Epoch')\n",
    "axes[0].set_ylabel('Average Loss')\n",
    "axes[0].grid(axis='y')\n",
    "\n",
    "# Validation Loss\n",
    "axes[1].plot(epoch, val_epoch_losses, marker='o', color='orange')\n",
    "axes[1].set_title('Validation Loss per Epoch')\n",
    "axes[1].set_xticks(epoch)\n",
    "axes[1].set_xlabel('Epoch')\n",
    "axes[1].set_ylabel('Average Loss')\n",
    "axes[1].grid(axis='y')\n",
    "\n",
    "plt.show()"
   ]
  },
  {
   "cell_type": "markdown",
   "metadata": {
    "id": "dMb7H46HOLqG"
   },
   "source": [
    "### 4.2.4 Evaluation\n",
    "\n",
    "In summary, the model struggles to predict OOV words, regardless of how much content it has learned from the training set."
   ]
  },
  {
   "cell_type": "markdown",
   "metadata": {
    "id": "6hVAggi_P469"
   },
   "source": [
    "#### Training Loss"
   ]
  },
  {
   "cell_type": "markdown",
   "metadata": {
    "id": "2QWsqzGoSlMm"
   },
   "source": [
    "The training loss decreases rapidly and stabilizes around epoch 10, indicating that the model successfully fits the training data.\n",
    "\n",
    "The consistent convergence pattern suggests that our vanilla RNN encoder-decoder is capable of capturing the sequence patterns within the training distribution, even without advanced mechanisms such as attention or pre-trained embeddings."
   ]
  },
  {
   "cell_type": "markdown",
   "metadata": {
    "id": "YABoXw1mLYfT"
   },
   "source": [
    "#### Validation Loss"
   ]
  },
  {
   "cell_type": "markdown",
   "metadata": {
    "id": "Cc59zJh0Siqz"
   },
   "source": [
    "The validation loss rises steadily throughout training, revealing a clear sign of overfitting.\n",
    "\n",
    "This outcome is expected. Since the word-to-index vocabulary was intentionally built only from the training set\n",
    "\n",
    "As a result, unseen or rare tokens are replaced by the \\<UNK> tag, leading to higher loss and reduced generalization capability."
   ]
  },
  {
   "cell_type": "markdown",
   "metadata": {
    "id": "BhSE5ON4_r0C"
   },
   "source": [
    "## 4.3 The Bi-LSTM encoder-decoder with XXX-attention in different positions\n",
    "\n",
    "Lab 7"
   ]
  },
  {
   "cell_type": "code",
   "execution_count": null,
   "metadata": {
    "id": "b14s1AoN_wNC"
   },
   "outputs": [],
   "source": []
  },
  {
   "cell_type": "markdown",
   "metadata": {
    "id": "E4w_n2P2_xxm"
   },
   "source": [
    "## 4.4 The vanilla Transformer with self-attention\n",
    "\n",
    "Lab 8"
   ]
  },
  {
   "cell_type": "code",
   "execution_count": null,
   "metadata": {
    "id": "QpZNRYhe_1ae"
   },
   "outputs": [],
   "source": []
  },
  {
   "cell_type": "markdown",
   "metadata": {
    "id": "6GU_rQZJk87q"
   },
   "source": [
    "# 5. Performance Evaluation\n",
    "(You can add as many code blocks and text blocks as you need. However, YOU SHOULD NOT MODIFY the section title)"
   ]
  },
  {
   "cell_type": "code",
   "execution_count": null,
   "metadata": {
    "id": "L11vnP-lk_ZH"
   },
   "outputs": [],
   "source": []
  },
  {
   "cell_type": "markdown",
   "metadata": {
    "id": "Zvj4_3Qak_x7"
   },
   "source": [
    "# 6. Interactive Inference Colab Form\n",
    "(You can add as many code blocks and text blocks as you need. However, YOU SHOULD NOT MODIFY the section title)"
   ]
  },
  {
   "cell_type": "code",
   "execution_count": null,
   "metadata": {
    "id": "SMJN1Dx1lES9"
   },
   "outputs": [],
   "source": []
  }
 ],
 "metadata": {
  "accelerator": "GPU",
  "colab": {
   "gpuType": "T4",
   "provenance": [],
   "toc_visible": true
  },
  "kernelspec": {
   "display_name": "Python 3",
   "name": "python3"
  },
  "language_info": {
   "name": "python"
  }
 },
 "nbformat": 4,
 "nbformat_minor": 0
}
